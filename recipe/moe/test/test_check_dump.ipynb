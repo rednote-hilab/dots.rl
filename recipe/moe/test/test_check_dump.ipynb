{
 "cells": [
  {
   "cell_type": "code",
   "execution_count": 2,
   "id": "22ce1a04",
   "metadata": {},
   "outputs": [],
   "source": [
    "import torch\n",
    "import os\n",
    "from glob import glob\n",
    "from tqdm import tqdm"
   ]
  },
  {
   "cell_type": "code",
   "execution_count": 383,
   "id": "4fa1f403",
   "metadata": {},
   "outputs": [],
   "source": [
    "hf = glob(\"/newcpfs/user/liuyanjiang/Eng/agi-verl/recipe/moe/moe_trainer/dump_dir_2/*\")\n",
    "verl = glob(\"/newcpfs/user/liuyanjiang/Eng/agi-verl/recipe/moe/moe_trainer/dump_dir/*\")"
   ]
  },
  {
   "cell_type": "code",
   "execution_count": 384,
   "id": "ddcad368",
   "metadata": {},
   "outputs": [],
   "source": [
    "hf_layer0 = [i for i in hf if \"layers.1\" in i and \"mbs1\" in i]\n",
    "verl_layer0 = [i for i in verl if \"layers.1\" in i]"
   ]
  },
  {
   "cell_type": "code",
   "execution_count": 385,
   "id": "09981815",
   "metadata": {},
   "outputs": [],
   "source": [
    "hf_layer0_input = [i for i in hf_layer0 if \"input\" in i]\n",
    "verl_layer0_input = [i for i in verl_layer0 if \"input\" in i]"
   ]
  },
  {
   "cell_type": "code",
   "execution_count": 386,
   "id": "26bc70bd",
   "metadata": {},
   "outputs": [
    {
     "data": {
      "text/plain": [
       "['/newcpfs/user/liuyanjiang/Eng/agi-verl/recipe/moe/moe_trainer/dump_dir/model.layers.1.mlp.gate.inspect2-iter-mbs0-forward-input.pt',\n",
       " '/newcpfs/user/liuyanjiang/Eng/agi-verl/recipe/moe/moe_trainer/dump_dir/model.layers.1.mlp.inspect_param-iter-mbs0-forward-input.pt',\n",
       " '/newcpfs/user/liuyanjiang/Eng/agi-verl/recipe/moe/moe_trainer/dump_dir/model.layers.1.mlp.inspect_param2-iter-mbs0-forward-input.pt',\n",
       " '/newcpfs/user/liuyanjiang/Eng/agi-verl/recipe/moe/moe_trainer/dump_dir/model.layers.1.mlp.gate.inspect-iter-mbs0-forward-input.pt']"
      ]
     },
     "execution_count": 386,
     "metadata": {},
     "output_type": "execute_result"
    }
   ],
   "source": [
    "[i for i in verl_layer0_input if \"insp\" in i]"
   ]
  },
  {
   "cell_type": "code",
   "execution_count": 448,
   "id": "f380aac4",
   "metadata": {},
   "outputs": [],
   "source": [
    "hf_a = torch.load(\n",
    "    \"/newcpfs/user/liuyanjiang/Eng/agi-verl/recipe/moe/moe_trainer/dump_dir_2/model.layers.2.mlp.gate-iter-mbs0-forward-output.pt\",\n",
    "    map_location=\"cpu\",\n",
    "    weights_only=False,\n",
    ")\n",
    "verl_a = torch.load(\n",
    "    \"/newcpfs/user/liuyanjiang/Eng/agi-verl/recipe/moe/moe_trainer/dump_dir/model.layers.2.mlp.gate-iter-mbs0-forward-output.pt\",\n",
    "    map_location=\"cpu\",\n",
    "    weights_only=False,\n",
    ")"
   ]
  },
  {
   "cell_type": "code",
   "execution_count": 449,
   "id": "9030da56",
   "metadata": {},
   "outputs": [
    {
     "data": {
      "text/plain": [
       "True"
      ]
     },
     "execution_count": 449,
     "metadata": {},
     "output_type": "execute_result"
    }
   ],
   "source": [
    "torch.allclose(hf_a[0], verl_a[0], rtol=1e-5, atol=1e-8)"
   ]
  },
  {
   "cell_type": "code",
   "execution_count": 450,
   "id": "5012e273",
   "metadata": {},
   "outputs": [
    {
     "data": {
      "text/plain": [
       "(tensor([[ 12,  24,  51,  71,  83,  86],\n",
       "         [ 14,  23,  24,  37, 114,  74],\n",
       "         [  3,  23,  37, 107, 123,  29],\n",
       "         ...,\n",
       "         [ 17,  36,  38,  94,  45,  49],\n",
       "         [ 17,  36,  38,  94,  45,  49],\n",
       "         [ 17,  36,  38,  94,  45,  49]]),\n",
       " tensor([[0.4184, 0.3977, 0.4881, 0.3874, 0.4390, 0.3693],\n",
       "         [0.4302, 0.4012, 0.4651, 0.4041, 0.4012, 0.3983],\n",
       "         [0.4146, 0.4146, 0.4114, 0.4335, 0.4146, 0.4114],\n",
       "         ...,\n",
       "         [0.4186, 0.4153, 0.4169, 0.4186, 0.4169, 0.4137],\n",
       "         [0.4186, 0.4153, 0.4169, 0.4186, 0.4169, 0.4137],\n",
       "         [0.4186, 0.4153, 0.4169, 0.4186, 0.4169, 0.4137]], requires_grad=True),\n",
       " None)"
      ]
     },
     "execution_count": 450,
     "metadata": {},
     "output_type": "execute_result"
    }
   ],
   "source": [
    "verl_a"
   ]
  },
  {
   "cell_type": "code",
   "execution_count": 451,
   "id": "a07e177c",
   "metadata": {},
   "outputs": [
    {
     "data": {
      "text/plain": [
       "(tensor([[ 12,  24,  51,  71,  83,  86],\n",
       "         [ 14,  23,  24,  37, 114,  74],\n",
       "         [  3,  23,  37, 107, 123,  29],\n",
       "         ...,\n",
       "         [ 17,  36,  38,  94,  45,  49],\n",
       "         [ 17,  36,  38,  94,  45,  49],\n",
       "         [ 17,  36,  38,  94,  45,  49]]),\n",
       " tensor([[0.4184, 0.3977, 0.4881, 0.3874, 0.4390, 0.3693],\n",
       "         [0.4302, 0.4012, 0.4651, 0.4041, 0.4012, 0.3983],\n",
       "         [0.4146, 0.4146, 0.4114, 0.4335, 0.4146, 0.4114],\n",
       "         ...,\n",
       "         [0.4186, 0.4153, 0.4169, 0.4186, 0.4169, 0.4137],\n",
       "         [0.4186, 0.4153, 0.4169, 0.4186, 0.4169, 0.4137],\n",
       "         [0.4186, 0.4153, 0.4169, 0.4186, 0.4169, 0.4137]], requires_grad=True),\n",
       " None)"
      ]
     },
     "execution_count": 451,
     "metadata": {},
     "output_type": "execute_result"
    }
   ],
   "source": [
    "hf_a"
   ]
  },
  {
   "cell_type": "code",
   "execution_count": 178,
   "id": "f081cb9d",
   "metadata": {},
   "outputs": [
    {
     "data": {
      "text/plain": [
       "tensor([[ 17,  46,  51,  68,  82,  14],\n",
       "        [ 12,  48,  86,  98, 105,  90],\n",
       "        [  4,  90, 112, 121,   5,   8],\n",
       "        ...,\n",
       "        [  9,  17,  51,  75,   7,  14],\n",
       "        [  9,  17,  51,  75,   7,  14],\n",
       "        [  9,  17,  51,  75,   7,  14]])"
      ]
     },
     "execution_count": 178,
     "metadata": {},
     "output_type": "execute_result"
    }
   ],
   "source": [
    "verl_a[0][1024:]"
   ]
  },
  {
   "cell_type": "code",
   "execution_count": null,
   "id": "837b3d0f",
   "metadata": {},
   "outputs": [],
   "source": []
  }
 ],
 "metadata": {
  "kernelspec": {
   "display_name": "agi-verl",
   "language": "python",
   "name": "python3"
  },
  "language_info": {
   "codemirror_mode": {
    "name": "ipython",
    "version": 3
   },
   "file_extension": ".py",
   "mimetype": "text/x-python",
   "name": "python",
   "nbconvert_exporter": "python",
   "pygments_lexer": "ipython3",
   "version": "3.12.11"
  }
 },
 "nbformat": 4,
 "nbformat_minor": 5
}
